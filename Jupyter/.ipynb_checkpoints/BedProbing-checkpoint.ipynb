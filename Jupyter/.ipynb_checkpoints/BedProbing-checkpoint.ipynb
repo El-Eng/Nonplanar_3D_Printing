{
 "cells": [
  {
   "cell_type": "code",
   "execution_count": 16,
   "metadata": {},
   "outputs": [],
   "source": [
    "import re\n",
    "import math\n",
    "\n",
    "def arrayToFile(path, data):\n",
    "    with open(path, \"w\") as txt_file:\n",
    "        for line in data:\n",
    "            txt_file.write(\" \".join(line))"
   ]
  },
  {
   "cell_type": "code",
   "execution_count": 17,
   "metadata": {},
   "outputs": [
    {
     "name": "stdout",
     "output_type": "stream",
     "text": [
      "-565.0\n",
      "255.0\n"
     ]
    }
   ],
   "source": [
    "#Input Values\n",
    "xLegnth = 1130\n",
    "yLegnth = 500\n",
    "\n",
    "xMargin = 0\n",
    "yMargin = 60\n",
    "\n",
    "xRobotBase=150 #nah chief\n",
    "yRobotBase=150 #nah chief\n",
    "\n",
    "NumberOfPoints = 50 #approx\n",
    "\n",
    "zHeightRest = 50\n",
    "zHeightProbe = 26-2\n",
    "\n",
    "baseCentreOffsetX=0\n",
    "baseCentreOffsetY=yRobotBase+(yLegnth/2)+(yRobotBase/2)\n",
    "\n",
    "\n",
    "#CaulcationOfProbePoints\n",
    "xStartPos = baseCentreOffsetX + (-(xLegnth-xMargin)/2)\n",
    "xEndPos = baseCentreOffsetX + ( (xLegnth-xMargin)/2)\n",
    "\n",
    "yStartPos = baseCentreOffsetY + ( -(yLegnth-yMargin)/2)\n",
    "yEndPos = baseCentreOffsetY + ( (yLegnth-yMargin)/2)\n",
    "\n",
    "xTravel = abs(xStartPos) + abs(xEndPos)\n",
    "yTravel = abs(yStartPos) + abs(yEndPos)\n",
    "\n",
    "xyRatio=xTravel/yTravel\n",
    "xProbePointNumber = NumberOfPoints/(1+xyRatio)\n",
    "yProbePointNumber = NumberOfPoints/(1+(1/xyRatio))\n",
    "\n",
    "x=xStartPos\n",
    "y=yStartPos\n",
    "\n",
    "z1=zHeightRest\n",
    "z2=zHeightProbe\n",
    "\n",
    "Xsapcing=yTravel/yProbePointNumber\n",
    "Yspacing=xTravel/xProbePointNumber\n",
    "\n",
    "Xsapcing=50\n",
    "Yspacing=50\n",
    "\n",
    "#IteratingThroughPoints\n",
    "#array = np.empty((int(xProbePointNumber*yProbePointNumber)))\n",
    "array = ['0'] * int(xProbePointNumber*yProbePointNumber)\n",
    "#array = \n",
    "i = 0\n",
    "while (x<xEndPos):\n",
    "    while (y<yEndPos):\n",
    "        X = format((x),\".3f\")\n",
    "        Y = format((y),\".3f\")\n",
    "        Z1 = format((z1),\".3f\")\n",
    "        Z2 = format((z2),\".3f\")\n",
    "        newString = \"G1 X{} Y{} Z{} \\nG1 X{} Y{} Z{} \\nG1 X{} Y{} Z{} \\n\".format(X, Y, Z1, X, Y, Z2, X, Y, Z1)\n",
    "        array[i]=[newString]\n",
    "        i+=1\n",
    "        y+=(Yspacing)\n",
    "    x+=(Xsapcing)\n",
    "    y=yStartPos\n",
    "arrayToFile(\"BedProbe2.gcode\", array)"
   ]
  },
  {
   "cell_type": "code",
   "execution_count": 14,
   "metadata": {},
   "outputs": [
    {
     "name": "stdout",
     "output_type": "stream",
     "text": [
      "22.836538461538463\n",
      "27.163461538461537\n"
     ]
    }
   ],
   "source": [
    "print(xProbePointNumber)\n",
    "print(yProbePointNumber)"
   ]
  },
  {
   "cell_type": "code",
   "execution_count": 24,
   "metadata": {},
   "outputs": [
    {
     "name": "stdout",
     "output_type": "stream",
     "text": [
      "560.0\n",
      "1130.0\n"
     ]
    }
   ],
   "source": [
    "print(yTravel)\n",
    "print(xTravel)"
   ]
  },
  {
   "cell_type": "code",
   "execution_count": null,
   "metadata": {},
   "outputs": [],
   "source": []
  }
 ],
 "metadata": {
  "kernelspec": {
   "display_name": "Python 3",
   "language": "python",
   "name": "python3"
  },
  "language_info": {
   "codemirror_mode": {
    "name": "ipython",
    "version": 3
   },
   "file_extension": ".py",
   "mimetype": "text/x-python",
   "name": "python",
   "nbconvert_exporter": "python",
   "pygments_lexer": "ipython3",
   "version": "3.8.3"
  }
 },
 "nbformat": 4,
 "nbformat_minor": 4
}
