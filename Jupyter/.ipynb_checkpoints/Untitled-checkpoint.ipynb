{
 "cells": [
  {
   "cell_type": "code",
   "execution_count": 3,
   "metadata": {},
   "outputs": [],
   "source": [
    "import re\n",
    "\n",
    "def fileToArray(path):\n",
    "    filepath = path;\n",
    "    array = []\n",
    "    with open(filepath) as fp:\n",
    "        for line in fp:\n",
    "            array.append([line])\n",
    "    return array\n",
    "\n",
    "def manipulateFile(array):\n",
    "    firstIteration = False;\n",
    "    storePrevious = [1,2,3,4,5]     # initialise var\n",
    "    r = re.compile('G1.*X.*Y.*Z.*E.*')\n",
    "    # iterate through entire array\n",
    "    for i in range (len(array)):\n",
    "        # check if array matches regex stated above\n",
    "        newlist = list(filter(r.match, array[i]))\n",
    "        if (newlist != []):\n",
    "            #print(newlist)\n",
    "            # separate string into comma separated list\n",
    "            tempString = \", \".join(newlist).split()\n",
    "            # storing first instance of correct format\n",
    "            if (firstIteration == False):\n",
    "                storePrevious = tempString\n",
    "                firstIteration = True\n",
    "            # if Z value hasn't changed\n",
    "            if (storePrevious[3] == tempString[3]):\n",
    "                #print(tempString)\n",
    "                newString = \"{} {} {} {} I0.000 J0.000 K0.000 {}\\n\".format(tempString[0], tempString[1], tempString[2], tempString[3], tempString[4])\n",
    "                array[i] = [newString]\n",
    "                #print([newString])\n",
    "            # if Z value has changed\n",
    "            else:\n",
    "                I = 1.00\n",
    "                J = 2.00\n",
    "                K = 3.00\n",
    "                newString = \"{} {} {} {} I3.000 J3.000 K3.000 {}\\n\".format(tempString[0], tempString[1], tempString[2], tempString[3], tempString[4])\n",
    "                array[i] = [newString]\n",
    "                #print([newString])\n",
    "            # update stored value\n",
    "            storePrevious = tempString\n",
    "    return array\n",
    "\n",
    "def arrayToFile(path, data):\n",
    "    with open(path, \"w\") as txt_file:\n",
    "        for line in data:\n",
    "            txt_file.write(\" \".join(line))\n"
   ]
  },
  {
   "cell_type": "code",
   "execution_count": 4,
   "metadata": {},
   "outputs": [],
   "source": [
    "theFile = fileToArray('curvywurvy v1.gcode')\n",
    "new_array = manipulateFile(theFile)\n",
    "arrayToFile(\"output.txt\", new_array)"
   ]
  }
 ],
 "metadata": {
  "kernelspec": {
   "display_name": "Python 3",
   "language": "python",
   "name": "python3"
  },
  "language_info": {
   "codemirror_mode": {
    "name": "ipython",
    "version": 3
   },
   "file_extension": ".py",
   "mimetype": "text/x-python",
   "name": "python",
   "nbconvert_exporter": "python",
   "pygments_lexer": "ipython3",
   "version": "3.8.3"
  }
 },
 "nbformat": 4,
 "nbformat_minor": 4
}
