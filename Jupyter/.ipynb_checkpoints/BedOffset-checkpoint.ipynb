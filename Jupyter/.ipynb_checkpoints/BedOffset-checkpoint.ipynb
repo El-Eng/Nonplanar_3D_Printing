{
 "cells": [
  {
   "cell_type": "code",
   "execution_count": null,
   "metadata": {},
   "outputs": [],
   "source": [
    "import re\n",
    "import math\n",
    "\n",
    "def fileToArray(path):\n",
    "    filepath = path;\n",
    "    array = []\n",
    "    with open(filepath) as fp:\n",
    "        for line in fp:\n",
    "            array.append([line])\n",
    "    return array"
   ]
  },
  {
   "cell_type": "code",
   "execution_count": null,
   "metadata": {},
   "outputs": [],
   "source": [
    "theFile = fileToArray('output2.gcode')\n",
    "\n",
    "BedOriginX=100\n",
    "BedOriginY=100\n",
    "BedOriginZ=100\n",
    "\n",
    "firstIteration = False;\n",
    "storePrevious = [1,2,3,4,5]\n",
    "prevI=0.000\n",
    "prevJ=0.000\n",
    "prevK=1.000\n",
    "r = re.compile('G1.*X.*Y.*Z.*I.*J.*K.*E.*')\n",
    "for i in range (len(array)):\n",
    "    newlist = list(filter(r.match, array[i]))\n",
    "    if (newlist != []):\n",
    "        tempString = \", \".join(newlist).split()\n",
    "        if (firstIteration == False):\n",
    "            storePrevious = tempString\n",
    "            firstIteration = True\n",
    "        X = float(tempString[1])+BedOriginX\n",
    "        Y = float(tempString[2])+BedOriginY\n",
    "        Z = float(tempString[3])+BedOriginZ\n",
    "        \n",
    "        X = format((X),\".3f\")\n",
    "        Y = format((Y),\".3f\")\n",
    "        Z = format((Z),\".3f\")\n",
    "                \n",
    "        newString = \"{} {} {} {} {} {} {} {}\\n\".format(tempString[0], X, Y, Z, tempString[4], tempString[5], tempString[6], tempString[7])\n",
    "        array[i] = [newString]\n",
    "    storePrevious = tempString\n",
    "arrayToFile(\"outputBed.gcode\", array)"
   ]
  },
  {
   "cell_type": "code",
   "execution_count": null,
   "metadata": {},
   "outputs": [],
   "source": []
  }
 ],
 "metadata": {
  "kernelspec": {
   "display_name": "Python 3",
   "language": "python",
   "name": "python3"
  },
  "language_info": {
   "codemirror_mode": {
    "name": "ipython",
    "version": 3
   },
   "file_extension": ".py",
   "mimetype": "text/x-python",
   "name": "python",
   "nbconvert_exporter": "python",
   "pygments_lexer": "ipython3",
   "version": "3.8.3"
  }
 },
 "nbformat": 4,
 "nbformat_minor": 4
}
