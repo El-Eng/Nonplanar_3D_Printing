{
 "cells": [
  {
   "cell_type": "code",
   "execution_count": 11,
   "metadata": {},
   "outputs": [],
   "source": [
    "import re\n",
    "import math\n",
    "\n",
    "def arrayToFile(path, data):\n",
    "    with open(path, \"w\") as txt_file:\n",
    "        for line in data:\n",
    "            txt_file.write(\" \".join(line))"
   ]
  },
  {
   "cell_type": "code",
   "execution_count": 12,
   "metadata": {},
   "outputs": [],
   "source": [
    "#Input Values\n",
    "xLegnth = 1125\n",
    "yLegnth = 500\n",
    "\n",
    "xMargin = 20\n",
    "yMargin = 20\n",
    "\n",
    "xspacing=50\n",
    "yspacing=50\n",
    "\n",
    "#Bed Fram 0,0\n",
    "X=-545.48\n",
    "Y=326.60\n",
    "Z=126.17\n",
    "\n",
    "z1=Z+30\n",
    "z2=Z-1.5\n",
    "\n",
    "#CaulcationOfProbePoints\n",
    "xStartPos = X+xMargin\n",
    "xEndPos = X+xLegnth-xMargin\n",
    "\n",
    "yStartPos = Y+yMargin\n",
    "yEndPos = Y+yLegnth-yMargin\n",
    "\n",
    "xTravel=abs(xStartPos)+abs(xEndPos)\n",
    "yTravel=abs(yStartPos)+abs(yEndPos)\n",
    "\n",
    "xProbePointNumber=xTravel/xspacing\n",
    "yProbePointNumber=yTravel/yspacing\n",
    "\n",
    "xst=xStartPos\n",
    "yst=yStartPos\n",
    "\n",
    "#IteratingThroughPoints\n",
    "array = ['0'] * (int(xProbePointNumber*yProbePointNumber)+1)\n",
    "i = 0\n",
    "while (xst<xEndPos):\n",
    "    while (yst<yEndPos):\n",
    "        Xit = format((xst),\".3f\")\n",
    "        Yit = format((yst),\".3f\")\n",
    "        Z1 = format((z1),\".3f\")\n",
    "        Z2 = format((z2),\".3f\")\n",
    "        newString = \"G1 F6000 \\nG1 X{} Y{} Z{} \\nG1 F500 \\nG1 X{} Y{} Z{} \\nG1 X{} Y{} Z{} \\n\".format(Xit, Yit, Z1, Xit, Yit, Z2, Xit, Yit, Z1)\n",
    "        array[i]=[newString]\n",
    "        i+=1\n",
    "        yst+=(yspacing)\n",
    "    xst+=(xspacing)\n",
    "    yst=yStartPos\n",
    "array[i]=\"G1 X{} Y{} Z{}\".format(xStartPos, yStartPos, Z1)\n",
    "arrayToFile(\"ProbeSpeed.gcode\", array)"
   ]
  },
  {
   "cell_type": "code",
   "execution_count": null,
   "metadata": {},
   "outputs": [],
   "source": []
  },
  {
   "cell_type": "code",
   "execution_count": null,
   "metadata": {},
   "outputs": [],
   "source": []
  }
 ],
 "metadata": {
  "kernelspec": {
   "display_name": "Python 3",
   "language": "python",
   "name": "python3"
  },
  "language_info": {
   "codemirror_mode": {
    "name": "ipython",
    "version": 3
   },
   "file_extension": ".py",
   "mimetype": "text/x-python",
   "name": "python",
   "nbconvert_exporter": "python",
   "pygments_lexer": "ipython3",
   "version": "3.8.3"
  }
 },
 "nbformat": 4,
 "nbformat_minor": 4
}
