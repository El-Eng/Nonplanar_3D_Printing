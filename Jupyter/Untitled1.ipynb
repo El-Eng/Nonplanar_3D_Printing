{
 "cells": [
  {
   "cell_type": "code",
   "execution_count": 7,
   "metadata": {},
   "outputs": [],
   "source": [
    "import re\n",
    "import math\n",
    "\n",
    "def fileToArray(path):\n",
    "    filepath = path;\n",
    "    array = []\n",
    "    with open(filepath) as fp:\n",
    "        for line in fp:\n",
    "            array.append([line])\n",
    "    return array\n",
    "\n",
    "def manipulateFile(array):\n",
    "    firstIteration = False;\n",
    "    storePrevious = [1,2,3,4,5]\n",
    "    prevI=0.000\n",
    "    prevJ=0.000\n",
    "    prevK=1.000\n",
    "    xoff=200\n",
    "    yoff=200\n",
    "    zoff=400\n",
    "    r = re.compile('G1.*X.*Y.*Z.*E.*')\n",
    "    for i in range (len(array)):\n",
    "        newlist = list(filter(r.match, array[i]))\n",
    "        if (newlist != []):\n",
    "            tempString = \", \".join(newlist).split()\n",
    "            if (firstIteration == False):\n",
    "                storePrevious = tempString\n",
    "                firstIteration = True\n",
    "            if (storePrevious[3] == tempString[3]):\n",
    "                #newString = \"{} {} {} {} I0.000 J0.000 K1.000 {}\\n\".format(tempString[0], tempString[1], tempString[2], tempString[3], tempString[4])\n",
    "                newString = \"{} {} {} {} I{} J{} K{} {}\\n\".format(tempString[0], tempString[1], tempString[2], tempString[3], prevI, prevJ, prevK, tempString[4])\n",
    "                array[i] = [newString]\n",
    "            else:\n",
    "                #I = -(float(tempString[2][1:])-float(storePrevious[2][1:]))\n",
    "                #J = -(float(tempString[1][1:])-float(storePrevious[1][1:]))\n",
    "                #K = (float(tempString[3][1:])-float(storePrevious[3][1:]))\n",
    "                dirI = (float(tempString[1][1:])-float(storePrevious[1][1:]))\n",
    "                dirJ = (float(tempString[2][1:])-float(storePrevious[2][1:]))\n",
    "                dirK = (float(tempString[3][1:])-float(storePrevious[3][1:]))\n",
    "                V = (dirI*dirI + dirJ*dirJ + dirK*dirK) ** 0.5\n",
    "                n_dirI = dirI/V\n",
    "                n_dirJ = dirJ/V\n",
    "                n_dirK = dirK/V\n",
    "                    \n",
    "                if n_dirK < 0:\n",
    "                    n_dirI = -n_dirI\n",
    "                    n_dirJ = -n_dirJ\n",
    "                    n_dirK = -n_dirK\n",
    "                mirI = -n_dirI\n",
    "                mirJ = -n_dirJ\n",
    "                mirK = n_dirK\n",
    "                I = mirI\n",
    "                J = mirJ\n",
    "                K = ((n_dirI**2 + n_dirJ**2))/n_dirK\n",
    "                \n",
    "                \n",
    "                I = format((I),\".3f\")\n",
    "                J = format((J),\".3f\")\n",
    "                K = format((K),\".3f\")\n",
    "                \n",
    "                #offset\n",
    "                xOut = xoff+float(tempString[1])\n",
    "                \n",
    "                newString = \"{} {} {} {} I{} J{} K{} {}\\n\".format((tempString[0]), (xOut), (tempString[2]), tempString[3], I, J, K, tempString[4])\n",
    "                array[i] = [newString]\n",
    "                prevI=I\n",
    "                prevJ=J\n",
    "                prevK=K\n",
    "            storePrevious = tempString\n",
    "    return array\n",
    "\n",
    "def arrayToFile(path, data):\n",
    "    with open(path, \"w\") as txt_file:\n",
    "        for line in data:\n",
    "            txt_file.write(\" \".join(line))\n"
   ]
  },
  {
   "cell_type": "code",
   "execution_count": 8,
   "metadata": {},
   "outputs": [
    {
     "ename": "ValueError",
     "evalue": "could not convert string to float: 'X305.059'",
     "output_type": "error",
     "traceback": [
      "\u001b[1;31m---------------------------------------------------------------------------\u001b[0m",
      "\u001b[1;31mValueError\u001b[0m                                Traceback (most recent call last)",
      "\u001b[1;32m<ipython-input-8-2b2a2ecea229>\u001b[0m in \u001b[0;36m<module>\u001b[1;34m\u001b[0m\n\u001b[0;32m      1\u001b[0m \u001b[0mtheFile\u001b[0m \u001b[1;33m=\u001b[0m \u001b[0mfileToArray\u001b[0m\u001b[1;33m(\u001b[0m\u001b[1;34m'curveSliceTen.gcode'\u001b[0m\u001b[1;33m)\u001b[0m\u001b[1;33m\u001b[0m\u001b[1;33m\u001b[0m\u001b[0m\n\u001b[1;32m----> 2\u001b[1;33m \u001b[0mnew_array\u001b[0m \u001b[1;33m=\u001b[0m \u001b[0mmanipulateFile\u001b[0m\u001b[1;33m(\u001b[0m\u001b[0mtheFile\u001b[0m\u001b[1;33m)\u001b[0m\u001b[1;33m\u001b[0m\u001b[1;33m\u001b[0m\u001b[0m\n\u001b[0m\u001b[0;32m      3\u001b[0m \u001b[0marrayToFile\u001b[0m\u001b[1;33m(\u001b[0m\u001b[1;34m\"curveSliceTen_4_offset.gcode\"\u001b[0m\u001b[1;33m,\u001b[0m \u001b[0mnew_array\u001b[0m\u001b[1;33m)\u001b[0m\u001b[1;33m\u001b[0m\u001b[1;33m\u001b[0m\u001b[0m\n",
      "\u001b[1;32m<ipython-input-7-d015b20fbbfa>\u001b[0m in \u001b[0;36mmanipulateFile\u001b[1;34m(array)\u001b[0m\n\u001b[0;32m     60\u001b[0m \u001b[1;33m\u001b[0m\u001b[0m\n\u001b[0;32m     61\u001b[0m                 \u001b[1;31m#offset\u001b[0m\u001b[1;33m\u001b[0m\u001b[1;33m\u001b[0m\u001b[1;33m\u001b[0m\u001b[0m\n\u001b[1;32m---> 62\u001b[1;33m                 \u001b[0mxOut\u001b[0m \u001b[1;33m=\u001b[0m \u001b[0mxoff\u001b[0m\u001b[1;33m+\u001b[0m\u001b[0mfloat\u001b[0m\u001b[1;33m(\u001b[0m\u001b[0mtempString\u001b[0m\u001b[1;33m[\u001b[0m\u001b[1;36m1\u001b[0m\u001b[1;33m]\u001b[0m\u001b[1;33m)\u001b[0m\u001b[1;33m\u001b[0m\u001b[1;33m\u001b[0m\u001b[0m\n\u001b[0m\u001b[0;32m     63\u001b[0m \u001b[1;33m\u001b[0m\u001b[0m\n\u001b[0;32m     64\u001b[0m                 \u001b[0mnewString\u001b[0m \u001b[1;33m=\u001b[0m \u001b[1;34m\"{} {} {} {} I{} J{} K{} {}\\n\"\u001b[0m\u001b[1;33m.\u001b[0m\u001b[0mformat\u001b[0m\u001b[1;33m(\u001b[0m\u001b[1;33m(\u001b[0m\u001b[0mtempString\u001b[0m\u001b[1;33m[\u001b[0m\u001b[1;36m0\u001b[0m\u001b[1;33m]\u001b[0m\u001b[1;33m)\u001b[0m\u001b[1;33m,\u001b[0m \u001b[1;33m(\u001b[0m\u001b[0mxOut\u001b[0m\u001b[1;33m)\u001b[0m\u001b[1;33m,\u001b[0m \u001b[1;33m(\u001b[0m\u001b[0mtempString\u001b[0m\u001b[1;33m[\u001b[0m\u001b[1;36m2\u001b[0m\u001b[1;33m]\u001b[0m\u001b[1;33m)\u001b[0m\u001b[1;33m,\u001b[0m \u001b[0mtempString\u001b[0m\u001b[1;33m[\u001b[0m\u001b[1;36m3\u001b[0m\u001b[1;33m]\u001b[0m\u001b[1;33m,\u001b[0m \u001b[0mI\u001b[0m\u001b[1;33m,\u001b[0m \u001b[0mJ\u001b[0m\u001b[1;33m,\u001b[0m \u001b[0mK\u001b[0m\u001b[1;33m,\u001b[0m \u001b[0mtempString\u001b[0m\u001b[1;33m[\u001b[0m\u001b[1;36m4\u001b[0m\u001b[1;33m]\u001b[0m\u001b[1;33m)\u001b[0m\u001b[1;33m\u001b[0m\u001b[1;33m\u001b[0m\u001b[0m\n",
      "\u001b[1;31mValueError\u001b[0m: could not convert string to float: 'X305.059'"
     ]
    }
   ],
   "source": [
    "\n",
    "theFile = fileToArray('curveSliceTen.gcode')\n",
    "new_array = manipulateFile(theFile)\n",
    "arrayToFile(\"curveSliceTen_4_offset.gcode\", new_array)"
   ]
  },
  {
   "cell_type": "code",
   "execution_count": null,
   "metadata": {},
   "outputs": [],
   "source": []
  }
 ],
 "metadata": {
  "kernelspec": {
   "display_name": "Python 3",
   "language": "python",
   "name": "python3"
  },
  "language_info": {
   "codemirror_mode": {
    "name": "ipython",
    "version": 3
   },
   "file_extension": ".py",
   "mimetype": "text/x-python",
   "name": "python",
   "nbconvert_exporter": "python",
   "pygments_lexer": "ipython3",
   "version": "3.8.3"
  }
 },
 "nbformat": 4,
 "nbformat_minor": 4
}
