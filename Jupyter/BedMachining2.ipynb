{
 "cells": [
  {
   "cell_type": "code",
   "execution_count": 23,
   "metadata": {},
   "outputs": [],
   "source": [
    "import re\n",
    "import math\n",
    "\n",
    "def arrayToFile(path, data):\n",
    "    with open(path, \"w\") as txt_file:\n",
    "        for line in data:\n",
    "            txt_file.write(\" \".join(line))"
   ]
  },
  {
   "cell_type": "code",
   "execution_count": 24,
   "metadata": {},
   "outputs": [],
   "source": [
    "#Input Values\n",
    "xLegnth = 1125\n",
    "yLegnth = 500\n",
    "\n",
    "xMargin = 20 + 21\n",
    "yMargin = 20 + 21\n",
    "\n",
    "xspacing=21\n",
    "yspacing=21\n",
    "\n",
    "#Bed Fram 0,0\n",
    "#X=-545.48\n",
    "#Y=326.60\n",
    "#Z=126.17\n",
    "X=0\n",
    "Y=0\n",
    "Z=0\n",
    "\n",
    "z1=Z-1.5\n",
    "z2=Z-1.5\n",
    "\n",
    "#CaulcationOfProbePoints\n",
    "xStartPos = X+xMargin\n",
    "xEndPos = X+xLegnth-xMargin\n",
    "\n",
    "yStartPos = Y+yMargin\n",
    "yEndPos = Y+yLegnth-yMargin\n",
    "\n",
    "xTravel=abs(xStartPos)+abs(xEndPos)\n",
    "yTravel=abs(yStartPos)+abs(yEndPos)\n",
    "\n",
    "xProbePointNumber=xTravel/xspacing\n",
    "yProbePointNumber=yTravel/yspacing\n",
    "\n",
    "x=xStartPos\n",
    "y=yStartPos-yspacing\n",
    "\n",
    "#IteratingThroughPoints\n",
    "array = ['0'] * (int(xProbePointNumber*yProbePointNumber)+1)\n",
    "i = 0\n",
    "\n",
    "a = True\n",
    "while (x<xEndPos):\n",
    "    if a is True:\n",
    "        while (y<yEndPos):\n",
    "            y+=(yspacing)\n",
    "            X = format((x),\".3f\")\n",
    "            Y = format((y),\".3f\")\n",
    "            Z1 = format((z1),\".3f\")\n",
    "            Z2 = format((z2),\".3f\")\n",
    "            newString = \"G1 X{} Y{} Z{} \\n\".format(X, Y, Z1)\n",
    "            array[i]=[newString]\n",
    "            i+=1\n",
    "            y+=(yspacing)\n",
    "    if a is False:\n",
    "        while (y>yStartPos):\n",
    "            y-=(yspacing)\n",
    "            X = format((x),\".3f\")\n",
    "            Y = format((y),\".3f\")\n",
    "            Z1 = format((z1),\".3f\")\n",
    "            Z2 = format((z2),\".3f\")\n",
    "            newString = \"G1 X{} Y{} Z{} \\n\".format(X, Y, Z1)\n",
    "            array[i]=[newString]\n",
    "            i+=1\n",
    "            y-=(yspacing)\n",
    "    a = not a\n",
    "    x+=(xspacing)\n",
    "newString = \"G1 X{} Y{} Z{} \\n\".format(xStartPos, yStartPos, Z1)\n",
    "array[i]=[newString]\n",
    "arrayToFile(\"SpindleFinal4.gcode\", array)"
   ]
  },
  {
   "cell_type": "code",
   "execution_count": null,
   "metadata": {},
   "outputs": [],
   "source": [
    "T02 \n",
    "S16000\n",
    "M03"
   ]
  }
 ],
 "metadata": {
  "kernelspec": {
   "display_name": "Python 3",
   "language": "python",
   "name": "python3"
  },
  "language_info": {
   "codemirror_mode": {
    "name": "ipython",
    "version": 3
   },
   "file_extension": ".py",
   "mimetype": "text/x-python",
   "name": "python",
   "nbconvert_exporter": "python",
   "pygments_lexer": "ipython3",
   "version": "3.8.3"
  }
 },
 "nbformat": 4,
 "nbformat_minor": 4
}
