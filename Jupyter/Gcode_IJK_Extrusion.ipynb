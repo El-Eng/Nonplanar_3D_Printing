{
 "cells": [
  {
   "cell_type": "code",
   "execution_count": 1,
   "metadata": {},
   "outputs": [],
   "source": [
    "import re\n",
    "import math\n",
    "#Function to extract the path from the gcode file and store it in an array\n",
    "def fileToArray(path):\n",
    "    filepath = path;\n",
    "    array = []\n",
    "    with open(filepath) as fp:\n",
    "        for line in fp:\n",
    "            array.append([line])\n",
    "    return array\n",
    "#Function to generate tool orientation\n",
    "def manipulateFile(array):\n",
    "    #Setting boolean value for first iteration\n",
    "    firstIteration = False;\n",
    "    #Setting the storePrevious array\n",
    "    storePrevious = [1,2,3,4,5]\n",
    "    #Setting initial values for IJK to set the initial cooridante to (0,0,1), the tool home orientation\n",
    "    prevI=0.000\n",
    "    prevJ=0.000\n",
    "    prevK=1.000\n",
    "    #Setting the RegEx\n",
    "    r = re.compile('G1.*X.*Y.*Z.*E.*')\n",
    "    #Iterating through the entire legnth of the input file\n",
    "    for i in range (len(array)):\n",
    "        #Check if the current line of the array matches the RegEx\n",
    "        newlist = list(filter(r.match, array[i]))\n",
    "        if (newlist != []):\n",
    "            #Sperating the string into a comma seperates list\n",
    "            tempString = \", \".join(newlist).split()\n",
    "            #Stores the first instance in correct format and sets storePrevious values to t\n",
    "            if (firstIteration == False):\n",
    "                storePrevious = tempString\n",
    "                firstIteration = True\n",
    "            if (storePrevious[3] == tempString[3]):\n",
    "                newString = \"{} {} {} {} I{} J{} K{} {}\\n\".format(tempString[0], tempString[1], tempString[2], tempString[3], prevI, prevJ, prevK, tempString[4])\n",
    "                array[i] = [newString]\n",
    "            else:\n",
    "                I = -(float(tempString[2][1:])-float(storePrevious[2][1:]))\n",
    "                J = -(float(tempString[1][1:])-float(storePrevious[1][1:]))\n",
    "                K = (float(tempString[3][1:])-float(storePrevious[3][1:]))\n",
    "                if K < 0:\n",
    "                    I = -I\n",
    "                    J = -J\n",
    "                    K = -K\n",
    "                V = (I*I + J*J + K*K)**0.5\n",
    "                if V != 0:\n",
    "                    I = format((I/V),\".3f\")\n",
    "                    J = format((J/V),\".3f\")\n",
    "                    K = format((K/V),\".3f\")\n",
    "                \n",
    "                newString = \"{} {} {} {} I{} J{} K{} {}\\n\".format(tempString[0], tempString[1], tempString[2], tempString[3], I, J, K, tempString[4])\n",
    "                array[i] = [newString]\n",
    "                \n",
    "                prevI=I\n",
    "                prevJ=J\n",
    "                prevK=K\n",
    "            storePrevious = tempString\n",
    "    return array\n",
    "\n",
    "def arrayToFile(path, data):\n",
    "    with open(path, \"w\") as txt_file:\n",
    "        for line in data:\n",
    "            txt_file.write(\" \".join(line))\n"
   ]
  },
  {
   "cell_type": "code",
   "execution_count": 2,
   "metadata": {},
   "outputs": [],
   "source": [
    "theFile = fileToArray('CurvyslThick.gcode')\n",
    "new_array = manipulateFile(theFile)\n",
    "arrayToFile(\"CurvyslThick_IJK.gcode\", new_array)"
   ]
  },
  {
   "cell_type": "code",
   "execution_count": null,
   "metadata": {},
   "outputs": [],
   "source": []
  },
  {
   "cell_type": "code",
   "execution_count": null,
   "metadata": {},
   "outputs": [],
   "source": []
  }
 ],
 "metadata": {
  "kernelspec": {
   "display_name": "Python 3",
   "language": "python",
   "name": "python3"
  },
  "language_info": {
   "codemirror_mode": {
    "name": "ipython",
    "version": 3
   },
   "file_extension": ".py",
   "mimetype": "text/x-python",
   "name": "python",
   "nbconvert_exporter": "python",
   "pygments_lexer": "ipython3",
   "version": "3.8.3"
  }
 },
 "nbformat": 4,
 "nbformat_minor": 4
}
